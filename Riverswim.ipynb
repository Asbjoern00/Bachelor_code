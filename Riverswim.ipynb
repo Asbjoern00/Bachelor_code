{
 "cells": [
  {
   "cell_type": "code",
   "execution_count": 75,
   "metadata": {},
   "outputs": [],
   "source": [
    "import numpy as np\n",
    "from importlib import reload\n",
    "import river_classes as rc\n",
    "reload(rc)\n",
    "\n",
    "test_env = rc.RiverSwimEnvironment(0.95, nodes=None, n_states=5)\n",
    "random_policy = rc.PrimitivePolicy(test_env, actions=[{\"L\":0, \"R\":1} for i in range(5)])\n",
    "random_option = rc.Option(init_set= None, policy=random_policy, termination_probs=[0,0,0,0,1])\n",
    "\n",
    "random_option.policy.environment.reset_all()"
   ]
  },
  {
   "cell_type": "code",
   "execution_count": 76,
   "metadata": {},
   "outputs": [
    {
     "name": "stdout",
     "output_type": "stream",
     "text": [
      "{'L': 0, 'R': 8}\n",
      "{'L': 0, 'R': 6}\n",
      "{'L': 0, 'R': 2}\n",
      "{'L': 0, 'R': 1}\n",
      "{'L': 0, 'R': 0}\n"
     ]
    }
   ],
   "source": [
    "random_option.execute_option()\n",
    "for i in range(5):\n",
    "    print(random_option.policy.environment.nodes[i].actions_taken)"
   ]
  }
 ],
 "metadata": {
  "kernelspec": {
   "display_name": "base",
   "language": "python",
   "name": "python3"
  },
  "language_info": {
   "codemirror_mode": {
    "name": "ipython",
    "version": 3
   },
   "file_extension": ".py",
   "mimetype": "text/x-python",
   "name": "python",
   "nbconvert_exporter": "python",
   "pygments_lexer": "ipython3",
   "version": "3.9.13"
  },
  "orig_nbformat": 4
 },
 "nbformat": 4,
 "nbformat_minor": 2
}
