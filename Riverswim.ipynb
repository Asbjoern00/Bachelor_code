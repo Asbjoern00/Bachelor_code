{
 "cells": [
  {
   "cell_type": "code",
   "execution_count": 34,
   "metadata": {},
   "outputs": [
    {
     "name": "stdout",
     "output_type": "stream",
     "text": [
      "[[ 5.67471497  5.9207526 ]\n",
      " [ 5.62471497  6.69979899]\n",
      " [ 6.36480904  7.67873229]\n",
      " [ 7.29479568  8.81145847]\n",
      " [ 8.37088554 10.11245167]]\n"
     ]
    }
   ],
   "source": [
    "import numpy as np\n",
    "from importlib import reload\n",
    "import river_classes as rc\n",
    "reload(rc)\n",
    "\n",
    "test_env = rc.RiverSwimEnvironment(0.95, nodes=None, n_states=5)\n",
    "random_policy = rc.PrimitivePolicy(actions=[{\"L\":0.5, \"R\":0.5} for i in range(5)])\n",
    "#random_option = rc.Option(init_set= None, policy=random_policy, termination_probs=[0,0,0,0,0,0,0,0,0,1])\n",
    "test_env.policy_iteration()\n",
    "def stepfunc(x):\n",
    "    return 2.5/(x**(1/2) + 1)\n",
    "print(test_env.Q_star)"
   ]
  },
  {
   "cell_type": "code",
   "execution_count": 35,
   "metadata": {},
   "outputs": [],
   "source": [
    "test = test_env.vanilla_q_learning(exploration_policy=random_policy, step_size=\"adaptive\", step_size_func=stepfunc, rounds=10**5)"
   ]
  },
  {
   "cell_type": "code",
   "execution_count": 36,
   "metadata": {},
   "outputs": [
    {
     "data": {
      "text/plain": [
       "array([[ 6.26406453,  6.49130753],\n",
       "       [ 6.23397367,  7.38664934],\n",
       "       [ 7.033141  ,  8.33842466],\n",
       "       [ 8.01798712,  9.44451332],\n",
       "       [ 8.99229806, 10.74367879]])"
      ]
     },
     "execution_count": 36,
     "metadata": {},
     "output_type": "execute_result"
    }
   ],
   "source": [
    "test[-1,:,:]"
   ]
  }
 ],
 "metadata": {
  "kernelspec": {
   "display_name": "base",
   "language": "python",
   "name": "python3"
  },
  "language_info": {
   "codemirror_mode": {
    "name": "ipython",
    "version": 3
   },
   "file_extension": ".py",
   "mimetype": "text/x-python",
   "name": "python",
   "nbconvert_exporter": "python",
   "pygments_lexer": "ipython3",
   "version": "3.9.13"
  },
  "orig_nbformat": 4
 },
 "nbformat": 4,
 "nbformat_minor": 2
}
