{
 "cells": [
  {
   "cell_type": "code",
   "execution_count": 180,
   "metadata": {},
   "outputs": [
    {
     "data": {
      "text/plain": [
       "<module 'UCRL_SMDP' from '/home/asr/Desktop/Bachelor/Code bachelor/UCRL_SMDP.py'>"
      ]
     },
     "execution_count": 180,
     "metadata": {},
     "output_type": "execute_result"
    }
   ],
   "source": [
    "import numpy as np\n",
    "import grid_world_class as gw\n",
    "import UCRL2_L as ucrl\n",
    "import UCRL_SMDP as ucrlS\n",
    "import importlib\n",
    "importlib.reload(gw)\n",
    "importlib.reload(ucrl)\n",
    "importlib.reload(ucrlS)"
   ]
  },
  {
   "cell_type": "code",
   "execution_count": 181,
   "metadata": {},
   "outputs": [],
   "source": [
    "env_smdp = gw.grid_world(nS=36, T_max=6)\n",
    "env_ucrl = gw.grid_world(nS=36, T_max=1)\n",
    "ucrl_naive = ucrl.UCRL2(nS=36, nA = 4, delta = 0.05)\n",
    "smdp_ucrl = ucrlS.UCRL_SMDP(nS = 36, nA = 4, delta = 0.05, b_r=1,b_tau=1,sigma_r=1/2, sigma_tau=5/2 ,r_max=1,tau_min=1, tau_max=6)"
   ]
  },
  {
   "cell_type": "code",
   "execution_count": 182,
   "metadata": {},
   "outputs": [],
   "source": [
    "_, _, _, gstar = ucrl.VI(env_ucrl)\n",
    "_, _, _, gstar_smdp = ucrl.VI(env_smdp)"
   ]
  },
  {
   "cell_type": "code",
   "execution_count": 174,
   "metadata": {},
   "outputs": [],
   "source": [
    "reward_ucrl,tau_ucrl = ucrl.run_experiment(env_ucrl, ucrl_naive, T = 10**5)\n",
    "#reward_sucrl,tau_sucrl = ucrl.run_experiment(env, smdp_ucrl, T = 10**5)"
   ]
  }
 ],
 "metadata": {
  "kernelspec": {
   "display_name": "Python 3",
   "language": "python",
   "name": "python3"
  },
  "language_info": {
   "codemirror_mode": {
    "name": "ipython",
    "version": 3
   },
   "file_extension": ".py",
   "mimetype": "text/x-python",
   "name": "python",
   "nbconvert_exporter": "python",
   "pygments_lexer": "ipython3",
   "version": "3.9.2"
  },
  "orig_nbformat": 4
 },
 "nbformat": 4,
 "nbformat_minor": 2
}
