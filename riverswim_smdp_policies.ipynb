{
 "cells": [
  {
   "attachments": {},
   "cell_type": "markdown",
   "metadata": {},
   "source": [
    "Experiments on optimal policies in SMDP version of RiverSwim. "
   ]
  },
  {
   "cell_type": "code",
   "execution_count": 149,
   "metadata": {},
   "outputs": [],
   "source": [
    "# Load packages and utilities. \n",
    "from tabulate import tabulate\n",
    "import numpy as np\n",
    "import grid_world_class as gw\n",
    "import riverswim_class as rs \n",
    "import riverswim_class_smdp as rs_s \n",
    "\n",
    "import UCRL2_L as ucrl\n",
    "import UCRL_SMDP as ucrlS\n",
    "import experiment_utils as utils\n",
    "import importlib\n",
    "importlib.reload(gw)\n",
    "importlib.reload(rs)\n",
    "importlib.reload(rs_s)\n",
    "importlib.reload(ucrl)\n",
    "importlib.reload(ucrlS)\n",
    "importlib.reload(utils)\n",
    "import matplotlib.pyplot as plt"
   ]
  },
  {
   "attachments": {},
   "cell_type": "markdown",
   "metadata": {},
   "source": [
    "With the tests being done, we proceed to write the crucial results (optimal gain and optimal policies) to latex tables. "
   ]
  },
  {
   "cell_type": "code",
   "execution_count": 150,
   "metadata": {},
   "outputs": [],
   "source": [
    "def tables(S,T_max,lambda_p,p1,p2):\n",
    "    headers = ['Index/gain','MDP','Unif('+str(T_max)+')','Const('+str(T_max)+')',\n",
    "            'Pois('+str(lambda_p)+')','Binomial('+str(p1)+')','Geom('+str(p2)+')']\n",
    "    table = np.array(range(S)).reshape((S,1))\n",
    "\n",
    "\n",
    "    env_mdp = utils.VI(rs.riverswim(nS=S, T_max=1)) # standard mdp)\n",
    "    uniform = utils.VI(rs_s.riverswim(nS=S, T_max=T_max,distribution='uniform',param=None) )#parameter not needed.\n",
    "    constant = utils.VI(rs_s.riverswim(nS=S, T_max=T_max,distribution='constant',param=None) )#parameter not needed.\n",
    "    poisson = utils.VI(rs_s.riverswim(nS=S, T_max=T_max,distribution='poisson',param=lambda_p)) #parameter not needed.\n",
    "    binomial = utils.VI(rs_s.riverswim(nS=S, T_max=T_max,distribution='binomial',param=p1)) #parameter not needed.\n",
    "    geometric = utils.VI(rs_s.riverswim(nS=S, T_max=T_max,distribution='geometric',param=p2)) #parameter not needed.\n",
    "    policies = np.array([env_mdp[2],uniform[2],constant[2],poisson[2],binomial[2],geometric[2]]).T\n",
    "    policies = np.where(policies==0,'L','R')\n",
    "    policies \n",
    "    gains = np.array(['Gain',np.round(env_mdp[3],3),np.round(uniform[3],3),\n",
    "                    np.round(constant[3],3),np.round(poisson[3],3),\n",
    "                    np.round(binomial[3],3),np.round(geometric[3],3)]).reshape((1,7))\n",
    "    iterations =  np.array(['# Iterations',env_mdp[0],uniform[0],\n",
    "                    constant[0],poisson[0],binomial[0],geometric[0]]).reshape((1,7))\n",
    "\n",
    "    table = np.append(table,policies,axis = 1)\n",
    "    table = np.append(table,iterations,axis=0)\n",
    "\n",
    "    table=np.append(table,gains,axis=0)\n",
    "    print(tabulate(table,headers=headers,tablefmt='latex',numalign=\"center\"))\n",
    "\n"
   ]
  },
  {
   "cell_type": "code",
   "execution_count": 151,
   "metadata": {},
   "outputs": [
    {
     "name": "stdout",
     "output_type": "stream",
     "text": [
      "\\begin{tabular}{lllllll}\n",
      "\\hline\n",
      " Index/gain   & MDP   & Unif(4)   & Const(4)   & Pois(4)   & Binomial(0.1)   & Geom(0.75)   \\\\\n",
      "\\hline\n",
      " 0            & R     & R         & R          & R         & R               & R            \\\\\n",
      " 1            & R     & R         & R          & R         & R               & R            \\\\\n",
      " 2            & R     & R         & R          & R         & R               & R            \\\\\n",
      " 3            & R     & R         & R          & R         & R               & R            \\\\\n",
      " 4            & R     & R         & R          & R         & R               & R            \\\\\n",
      " 5            & R     & R         & R          & R         & R               & R            \\\\\n",
      " 6            & R     & R         & R          & R         & R               & R            \\\\\n",
      " 7            & R     & R         & R          & R         & R               & R            \\\\\n",
      " 8            & R     & R         & R          & R         & R               & R            \\\\\n",
      " 9            & R     & R         & R          & R         & R               & R            \\\\\n",
      " 10           & R     & R         & R          & R         & R               & R            \\\\\n",
      " 11           & R     & R         & R          & R         & R               & R            \\\\\n",
      " 12           & R     & R         & R          & R         & R               & R            \\\\\n",
      " 13           & R     & R         & R          & R         & R               & R            \\\\\n",
      " 14           & R     & R         & R          & R         & R               & R            \\\\\n",
      " 15           & R     & R         & R          & R         & R               & R            \\\\\n",
      " 16           & R     & R         & R          & R         & R               & R            \\\\\n",
      " 17           & R     & R         & R          & R         & R               & R            \\\\\n",
      " 18           & R     & R         & R          & R         & R               & R            \\\\\n",
      " 19           & R     & R         & R          & R         & R               & R            \\\\\n",
      " \\# Iterations & 108   & 271       & 481        & 484       & 114             & 143          \\\\\n",
      " Gain         & 0.466 & 0.186     & 0.116      & 0.116     & 0.441           & 0.35         \\\\\n",
      "\\hline\n",
      "\\end{tabular}\n"
     ]
    }
   ],
   "source": [
    "# Example where we always go right:\n",
    "S = 20 # set number of states\n",
    "T_max = 4 # set T_max\n",
    "lambda_p = 4\n",
    "p1 = 0.1\n",
    "p2 = 0.75\n",
    "tables(S,T_max,lambda_p,p1,p2)"
   ]
  },
  {
   "cell_type": "code",
   "execution_count": 152,
   "metadata": {},
   "outputs": [
    {
     "name": "stdout",
     "output_type": "stream",
     "text": [
      "\\begin{tabular}{lllllll}\n",
      "\\hline\n",
      " Index/gain   & MDP   & Unif(50)   & Const(50)   & Pois(30)   & Binomial(0.9)   & Geom(0.01)   \\\\\n",
      "\\hline\n",
      " 0            & R     & L          & L           & L          & L               & L            \\\\\n",
      " 1            & R     & L          & L           & L          & L               & L            \\\\\n",
      " 2            & R     & L          & L           & L          & L               & L            \\\\\n",
      " 3            & R     & L          & L           & L          & L               & L            \\\\\n",
      " 4            & R     & L          & L           & L          & L               & L            \\\\\n",
      " 5            & R     & L          & L           & L          & L               & L            \\\\\n",
      " 6            & R     & L          & L           & L          & L               & L            \\\\\n",
      " 7            & R     & L          & L           & L          & L               & L            \\\\\n",
      " 8            & R     & L          & L           & L          & L               & L            \\\\\n",
      " 9            & R     & L          & L           & L          & L               & L            \\\\\n",
      " 10           & R     & L          & L           & L          & L               & L            \\\\\n",
      " 11           & R     & L          & L           & L          & L               & L            \\\\\n",
      " 12           & R     & L          & L           & L          & L               & L            \\\\\n",
      " 13           & R     & L          & L           & L          & L               & L            \\\\\n",
      " 14           & R     & L          & L           & L          & L               & L            \\\\\n",
      " 15           & R     & L          & L           & L          & L               & L            \\\\\n",
      " 16           & R     & L          & L           & L          & L               & L            \\\\\n",
      " 17           & R     & L          & L           & L          & L               & L            \\\\\n",
      " 18           & R     & L          & L           & L          & L               & L            \\\\\n",
      " 19           & R     & L          & L           & L          & L               & L            \\\\\n",
      " \\# Iterations & 108   & 72         & 36          & 55         & 38              & 28           \\\\\n",
      " Gain         & 0.466 & 0.05       & 0.05        & 0.05       & 0.05            & 0.05         \\\\\n",
      "\\hline\n",
      "\\end{tabular}\n"
     ]
    }
   ],
   "source": [
    "# Example where we always go left:\n",
    "S = 20 # set number of states\n",
    "T_max = 50 # set T_max\n",
    "lambda_p = 30\n",
    "p1 = 0.9\n",
    "p2 = 0.01\n",
    "\n",
    "tables(S,T_max,lambda_p,p1,p2)"
   ]
  },
  {
   "cell_type": "code",
   "execution_count": 181,
   "metadata": {},
   "outputs": [
    {
     "name": "stdout",
     "output_type": "stream",
     "text": [
      "\\begin{tabular}{lllllll}\n",
      "\\hline\n",
      " Index/gain   & MDP   & Unif(18)   & Const(18)   & Pois(10)   & Binomial(0.53)   & Geom(0.101)   \\\\\n",
      "\\hline\n",
      " 0            & R     & L          & L           & L          & L                & L             \\\\\n",
      " 1            & R     & L          & L           & L          & L                & L             \\\\\n",
      " 2            & R     & L          & L           & L          & L                & L             \\\\\n",
      " 3            & R     & L          & L           & L          & L                & L             \\\\\n",
      " 4            & R     & L          & L           & L          & L                & L             \\\\\n",
      " 5            & R     & L          & L           & L          & L                & L             \\\\\n",
      " 6            & R     & L          & L           & L          & L                & L             \\\\\n",
      " 7            & R     & L          & L           & L          & L                & L             \\\\\n",
      " 8            & R     & L          & L           & L          & L                & L             \\\\\n",
      " 9            & R     & L          & L           & L          & L                & L             \\\\\n",
      " 10           & R     & L          & L           & L          & L                & L             \\\\\n",
      " 11           & R     & L          & L           & L          & L                & L             \\\\\n",
      " 12           & R     & L          & L           & L          & L                & L             \\\\\n",
      " 13           & R     & L          & L           & L          & L                & L             \\\\\n",
      " 14           & R     & L          & L           & L          & L                & L             \\\\\n",
      " 15           & R     & L          & L           & L          & L                & L             \\\\\n",
      " 16           & R     & L          & L           & L          & L                & L             \\\\\n",
      " 17           & R     & L          & L           & L          & L                & L             \\\\\n",
      " 18           & R     & R          & L           & R          & R                & R             \\\\\n",
      " 19           & R     & R          & R           & R          & R                & R             \\\\\n",
      " \\# Iterations & 108   & 328        & 150         & 62         & 280              & 62            \\\\\n",
      " Gain         & 0.466 & 0.05       & 0.05        & 0.05       & 0.05             & 0.05          \\\\\n",
      "\\hline\n",
      "\\end{tabular}\n"
     ]
    }
   ],
   "source": [
    "# Example where we go a mixed direction:\n",
    "S = 20 # set number of states\n",
    "T_max = 18 # set T_max\n",
    "lambda_p = 10\n",
    "p1 = 0.55\n",
    "p2 = 0.101\n",
    "\n",
    "tables(S,T_max,lambda_p,p1,p2)"
   ]
  },
  {
   "attachments": {},
   "cell_type": "markdown",
   "metadata": {},
   "source": [
    "Policy iteration as solver:\n"
   ]
  },
  {
   "cell_type": "code",
   "execution_count": 154,
   "metadata": {},
   "outputs": [],
   "source": [
    "def tables_pi(S,T_max,lambda_p,p1,p2):\n",
    "    headers = ['Index/gain','MDP','Unif('+str(T_max)+')','Const('+str(T_max)+')',\n",
    "            'Pois('+str(lambda_p)+')','Binomial('+str(p1)+')','Geom('+str(p2)+')']\n",
    "    table = np.array(range(S)).reshape((S,1))\n",
    "\n",
    "\n",
    "    env_mdp = utils.PI(rs.riverswim(nS=S, T_max=1)) # standard mdp)\n",
    "    uniform = utils.PI_SMDP(rs_s.riverswim(nS=S, T_max=T_max,distribution='uniform',param=None) )#parameter not needed.\n",
    "    constant = utils.PI_SMDP(rs_s.riverswim(nS=S, T_max=T_max,distribution='constant',param=None) )#parameter not needed.\n",
    "    poisson = utils.PI_SMDP(rs_s.riverswim(nS=S, T_max=T_max,distribution='poisson',param=lambda_p)) #parameter not needed.\n",
    "    binomial = utils.PI_SMDP(rs_s.riverswim(nS=S, T_max=T_max,distribution='binomial',param=p1)) #parameter not needed.\n",
    "    geometric = utils.PI_SMDP(rs_s.riverswim(nS=S, T_max=T_max,distribution='geometric',param=p2)) #parameter not needed.\n",
    "    policies = np.array([env_mdp[2],uniform[2],constant[2],poisson[2],binomial[2],geometric[2]]).T\n",
    "    policies = np.where(policies==0,'L','R')\n",
    "    policies \n",
    "    gains = np.array(['Gain',np.round(env_mdp[3],3),np.round(uniform[3],3),\n",
    "                    np.round(constant[3],3),np.round(poisson[3],3),\n",
    "                    np.round(binomial[3],3),np.round(geometric[3],3)]).reshape((1,7))\n",
    "    iterations =  np.array(['# Iterations',env_mdp[0],uniform[0],\n",
    "                    constant[0],poisson[0],binomial[0],geometric[0]]).reshape((1,7))\n",
    "\n",
    "    table = np.append(table,policies,axis = 1)\n",
    "    table = np.append(table,iterations,axis=0)\n",
    "\n",
    "    table=np.append(table,gains,axis=0)\n",
    "    print(tabulate(table,headers=headers,tablefmt='latex',numalign=\"center\"))"
   ]
  },
  {
   "cell_type": "code",
   "execution_count": 155,
   "metadata": {},
   "outputs": [
    {
     "name": "stdout",
     "output_type": "stream",
     "text": [
      "\\begin{tabular}{lllllll}\n",
      "\\hline\n",
      " Index/gain   & MDP   & Unif(4)   & Const(4)   & Pois(4)   & Binomial(0.1)   & Geom(0.75)   \\\\\n",
      "\\hline\n",
      " 0            & R     & R         & R          & R         & R               & R            \\\\\n",
      " 1            & R     & R         & R          & R         & R               & R            \\\\\n",
      " 2            & R     & R         & R          & R         & R               & R            \\\\\n",
      " 3            & R     & R         & R          & R         & R               & R            \\\\\n",
      " 4            & R     & R         & R          & R         & R               & R            \\\\\n",
      " 5            & R     & R         & R          & R         & R               & R            \\\\\n",
      " 6            & R     & R         & R          & R         & R               & R            \\\\\n",
      " 7            & R     & R         & R          & R         & R               & R            \\\\\n",
      " 8            & R     & R         & R          & R         & R               & R            \\\\\n",
      " 9            & R     & R         & R          & R         & R               & R            \\\\\n",
      " 10           & R     & R         & R          & R         & R               & R            \\\\\n",
      " 11           & R     & R         & R          & R         & R               & R            \\\\\n",
      " 12           & R     & R         & R          & R         & R               & R            \\\\\n",
      " 13           & R     & R         & R          & R         & R               & R            \\\\\n",
      " 14           & R     & R         & R          & R         & R               & R            \\\\\n",
      " 15           & R     & R         & R          & R         & R               & R            \\\\\n",
      " 16           & R     & R         & R          & R         & R               & R            \\\\\n",
      " 17           & R     & R         & R          & R         & R               & R            \\\\\n",
      " 18           & R     & R         & R          & R         & R               & R            \\\\\n",
      " 19           & R     & R         & R          & R         & R               & R            \\\\\n",
      " \\# Iterations & 21    & 20        & 15         & 19        & 19              & 20           \\\\\n",
      " Gain         & 0.467 & 0.187     & 0.117      & 0.116     & 0.442           & 0.35         \\\\\n",
      "\\hline\n",
      "\\end{tabular}\n"
     ]
    }
   ],
   "source": [
    "# Example where we always go right:\n",
    "S = 20 # set number of states\n",
    "T_max = 4 # set T_max\n",
    "lambda_p = 4\n",
    "p1 = 0.1\n",
    "p2 = 0.75\n",
    "tables_pi(S,T_max,lambda_p,p1,p2)"
   ]
  },
  {
   "cell_type": "code",
   "execution_count": 190,
   "metadata": {},
   "outputs": [
    {
     "name": "stdout",
     "output_type": "stream",
     "text": [
      "\\begin{tabular}{lllllll}\n",
      "\\hline\n",
      " Index/gain   & MDP   & Unif(50)   & Const(50)   & Pois(30)   & Binomial(0.9)   & Geom(0.01)   \\\\\n",
      "\\hline\n",
      " 0            & R     & L          & L           & L          & L               & L            \\\\\n",
      " 1            & R     & L          & L           & L          & L               & L            \\\\\n",
      " 2            & R     & L          & L           & L          & L               & L            \\\\\n",
      " 3            & R     & L          & L           & L          & L               & L            \\\\\n",
      " 4            & R     & L          & L           & L          & L               & L            \\\\\n",
      " 5            & R     & L          & L           & L          & L               & L            \\\\\n",
      " 6            & R     & L          & L           & L          & L               & L            \\\\\n",
      " 7            & R     & L          & L           & L          & L               & L            \\\\\n",
      " 8            & R     & L          & L           & L          & L               & L            \\\\\n",
      " 9            & R     & L          & L           & L          & L               & L            \\\\\n",
      " 10           & R     & L          & L           & L          & L               & L            \\\\\n",
      " 11           & R     & L          & L           & L          & L               & L            \\\\\n",
      " 12           & R     & L          & L           & L          & L               & L            \\\\\n",
      " 13           & R     & L          & L           & L          & L               & L            \\\\\n",
      " 14           & R     & L          & L           & L          & L               & L            \\\\\n",
      " 15           & R     & L          & L           & L          & L               & L            \\\\\n",
      " 16           & R     & L          & L           & L          & L               & L            \\\\\n",
      " 17           & R     & L          & L           & L          & L               & L            \\\\\n",
      " 18           & R     & L          & L           & L          & L               & L            \\\\\n",
      " 19           & R     & L          & L           & L          & L               & L            \\\\\n",
      " \\# Iterations & 21    & 2          & 2           & 3          & 3               & 3            \\\\\n",
      " Gain         & 0.467 & 0.05       & 0.05        & 0.05       & 0.05            & 0.05         \\\\\n",
      "\\hline\n",
      "\\end{tabular}\n"
     ]
    }
   ],
   "source": [
    "# Example where we always go left:\n",
    "S = 20 # set number of states\n",
    "T_max = 50 # set T_max\n",
    "lambda_p = 30\n",
    "p1 = 0.9\n",
    "p2 = 0.01\n",
    "\n",
    "tables_pi(S,T_max,lambda_p,p1,p2)"
   ]
  },
  {
   "cell_type": "code",
   "execution_count": 182,
   "metadata": {},
   "outputs": [
    {
     "name": "stdout",
     "output_type": "stream",
     "text": [
      "\\begin{tabular}{lllllll}\n",
      "\\hline\n",
      " Index/gain   & MDP   & Unif(18)   & Const(18)   & Pois(10)   & Binomial(0.55)   & Geom(0.101)   \\\\\n",
      "\\hline\n",
      " 0            & R     & L          & L           & L          & L                & L             \\\\\n",
      " 1            & R     & L          & L           & L          & L                & L             \\\\\n",
      " 2            & R     & L          & L           & L          & L                & L             \\\\\n",
      " 3            & R     & L          & L           & L          & L                & L             \\\\\n",
      " 4            & R     & L          & L           & L          & L                & L             \\\\\n",
      " 5            & R     & L          & L           & L          & L                & L             \\\\\n",
      " 6            & R     & L          & L           & L          & L                & L             \\\\\n",
      " 7            & R     & L          & L           & L          & L                & L             \\\\\n",
      " 8            & R     & L          & L           & L          & L                & L             \\\\\n",
      " 9            & R     & L          & L           & L          & L                & L             \\\\\n",
      " 10           & R     & L          & L           & L          & L                & L             \\\\\n",
      " 11           & R     & L          & L           & L          & L                & L             \\\\\n",
      " 12           & R     & L          & L           & L          & L                & L             \\\\\n",
      " 13           & R     & L          & L           & L          & L                & L             \\\\\n",
      " 14           & R     & L          & L           & L          & L                & L             \\\\\n",
      " 15           & R     & L          & L           & L          & L                & L             \\\\\n",
      " 16           & R     & L          & L           & L          & L                & L             \\\\\n",
      " 17           & R     & L          & L           & L          & L                & L             \\\\\n",
      " 18           & R     & R          & L           & R          & R                & R             \\\\\n",
      " 19           & R     & R          & R           & R          & R                & R             \\\\\n",
      " \\# Iterations & 10    & 2          & 2           & 3          & 3                & 2             \\\\\n",
      " Gain         & 0.467 & 0.05       & 0.05        & 0.05       & 0.05             & 0.05          \\\\\n",
      "\\hline\n",
      "\\end{tabular}\n"
     ]
    }
   ],
   "source": [
    "# Example where policy is mixed:\n",
    "S = 20 # set number of states\n",
    "T_max = 18 # set T_max\n",
    "lambda_p = 10\n",
    "p1 = 0.55\n",
    "p2 = 0.101\n",
    "\n",
    "\n",
    "tables_pi(S,T_max,lambda_p,p1,p2)"
   ]
  }
 ],
 "metadata": {
  "kernelspec": {
   "display_name": "Python 3",
   "language": "python",
   "name": "python3"
  },
  "language_info": {
   "codemirror_mode": {
    "name": "ipython",
    "version": 3
   },
   "file_extension": ".py",
   "mimetype": "text/x-python",
   "name": "python",
   "nbconvert_exporter": "python",
   "pygments_lexer": "ipython3",
   "version": "3.10.7"
  },
  "orig_nbformat": 4
 },
 "nbformat": 4,
 "nbformat_minor": 2
}
