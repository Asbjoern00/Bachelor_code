{
 "cells": [
  {
   "attachments": {},
   "cell_type": "markdown",
   "metadata": {},
   "source": [
    "Experiments on optimal policies in SMDP version of RiverSwim. "
   ]
  },
  {
   "cell_type": "code",
   "execution_count": 416,
   "metadata": {},
   "outputs": [],
   "source": [
    "# Load packages and utilities. \n",
    "from tabulate import tabulate\n",
    "import numpy as np\n",
    "import grid_world_class as gw\n",
    "import riverswim_class as rs \n",
    "import riverswim_class_smdp as rs_s \n",
    "\n",
    "import UCRL2_L as ucrl\n",
    "import UCRL_SMDP as ucrlS\n",
    "import experiment_utils as utils\n",
    "import importlib\n",
    "importlib.reload(gw)\n",
    "importlib.reload(rs)\n",
    "importlib.reload(rs_s)\n",
    "importlib.reload(ucrl)\n",
    "importlib.reload(ucrlS)\n",
    "importlib.reload(utils)\n",
    "import matplotlib.pyplot as plt"
   ]
  },
  {
   "cell_type": "code",
   "execution_count": 417,
   "metadata": {},
   "outputs": [
    {
     "name": "stdout",
     "output_type": "stream",
     "text": [
      "(33, array([1.6       , 1.54444444, 1.48888889, 1.43333333, 1.37777778,\n",
      "       1.32222222, 1.26666667, 1.21111111, 1.15555556, 1.1       ,\n",
      "       1.04444444, 0.98888889, 0.93333333, 0.87777778, 0.82222222,\n",
      "       0.76666667, 0.71111111, 0.65555556, 0.88163052, 2.14079486]), array([0, 0, 0, 0, 0, 0, 0, 0, 0, 0, 0, 0, 0, 0, 0, 0, 0, 0, 1, 1]), 0.047134601264002096)\n",
      "(138, array([37.11330937, 38.36867139, 39.78768979, 41.23385495, 42.68917881,\n",
      "       44.15046135, 45.61644346, 47.08621531, 48.55901143, 50.03418513,\n",
      "       51.51119383, 52.98958937, 54.46900833, 55.94916214, 57.42982701,\n",
      "       58.91083411, 60.39206014, 61.87341847, 63.35485095, 64.83632064]), array([1, 1, 1, 1, 1, 1, 1, 1, 1, 1, 1, 1, 1, 1, 1, 1, 1, 1, 1, 1]), 0.46172766875120885)\n",
      "(90, array([14.57849718, 15.84774217, 17.28460366, 18.74967216, 20.22296147,\n",
      "       21.70008175, 23.17927394, 24.6595929 , 26.14050631, 27.62172134,\n",
      "       29.10308312, 30.58451324, 32.06597373, 33.54744708, 35.0289256 ,\n",
      "       36.51040608, 37.99188725, 39.47336864, 40.95485011, 42.43633159]), array([1, 1, 1, 1, 1, 1, 1, 1, 1, 1, 1, 1, 1, 1, 1, 1, 1, 1, 1, 1]), 0.4617974324398144)\n"
     ]
    }
   ],
   "source": [
    "# Test of riverswim smdp.\n",
    "env_smdp = rs_s.riverswim(nS=20, T_max=20,distribution='uniform',param=None) #parameter not needed.\n",
    "env_option = rs.riverswim(nS=20, T_max=20)\n",
    "env_mdp = rs.riverswim(nS=20, T_max=1) # standard mdp)\n",
    "\n",
    "print(utils.VI(env_smdp))\n",
    "print(utils.VI(env_option))\n",
    "print(utils.VI(env_mdp))\n"
   ]
  },
  {
   "cell_type": "code",
   "execution_count": 418,
   "metadata": {},
   "outputs": [
    {
     "name": "stdout",
     "output_type": "stream",
     "text": [
      "(46, array([2.25      , 2.19444444, 2.13888889, 2.08333333, 2.02777778,\n",
      "       1.97222222, 1.91666667, 1.86111111, 1.80555556, 1.75      ,\n",
      "       1.69444444, 1.63888889, 1.58333333, 1.52777778, 1.47222222,\n",
      "       1.41666667, 1.36111111, 1.30555556, 1.25      , 1.80053465]), array([0, 0, 0, 0, 0, 0, 0, 0, 0, 0, 0, 0, 0, 0, 0, 0, 0, 0, 0, 1]), 0.045045188190237284)\n",
      "(138, array([37.11330937, 38.36867139, 39.78768979, 41.23385495, 42.68917881,\n",
      "       44.15046135, 45.61644346, 47.08621531, 48.55901143, 50.03418513,\n",
      "       51.51119383, 52.98958937, 54.46900833, 55.94916214, 57.42982701,\n",
      "       58.91083411, 60.39206014, 61.87341847, 63.35485095, 64.83632064]), array([1, 1, 1, 1, 1, 1, 1, 1, 1, 1, 1, 1, 1, 1, 1, 1, 1, 1, 1, 1]), 0.46172766875120885)\n",
      "(90, array([14.57849718, 15.84774217, 17.28460366, 18.74967216, 20.22296147,\n",
      "       21.70008175, 23.17927394, 24.6595929 , 26.14050631, 27.62172134,\n",
      "       29.10308312, 30.58451324, 32.06597373, 33.54744708, 35.0289256 ,\n",
      "       36.51040608, 37.99188725, 39.47336864, 40.95485011, 42.43633159]), array([1, 1, 1, 1, 1, 1, 1, 1, 1, 1, 1, 1, 1, 1, 1, 1, 1, 1, 1, 1]), 0.4617974324398144)\n"
     ]
    }
   ],
   "source": [
    "# Test of riverswim smdp, constant holding time.\n",
    "env_smdp = rs_s.riverswim(nS=20, T_max=20,distribution='constant',param = None)\n",
    "\n",
    "print(utils.VI(env_smdp))\n",
    "print(utils.VI(env_option))\n",
    "print(utils.VI(env_mdp))"
   ]
  },
  {
   "cell_type": "code",
   "execution_count": 419,
   "metadata": {},
   "outputs": [
    {
     "name": "stdout",
     "output_type": "stream",
     "text": [
      "No convergence in VI after:  1000  steps!\n",
      "(1001, array([50.05      , 49.99444444, 49.93888889, 49.88333333, 49.82777778,\n",
      "       49.77222222, 49.71666667, 50.14037363, 51.42028007, 52.85927573,\n",
      "       54.33151915, 55.81101675, 57.29207737, 58.77346983, 60.25493249,\n",
      "       61.73641   , 63.21789066, 64.69937198, 66.18085343, 67.66233491]), array([0, 0, 0, 0, 0, 0, 0, 1, 1, 1, 1, 1, 1, 1, 1, 1, 1, 1, 1, 1]), 0.058328991658743945)\n",
      "(138, array([37.11330937, 38.36867139, 39.78768979, 41.23385495, 42.68917881,\n",
      "       44.15046135, 45.61644346, 47.08621531, 48.55901143, 50.03418513,\n",
      "       51.51119383, 52.98958937, 54.46900833, 55.94916214, 57.42982701,\n",
      "       58.91083411, 60.39206014, 61.87341847, 63.35485095, 64.83632064]), array([1, 1, 1, 1, 1, 1, 1, 1, 1, 1, 1, 1, 1, 1, 1, 1, 1, 1, 1, 1]), 0.46172766875120885)\n",
      "(90, array([14.57849718, 15.84774217, 17.28460366, 18.74967216, 20.22296147,\n",
      "       21.70008175, 23.17927394, 24.6595929 , 26.14050631, 27.62172134,\n",
      "       29.10308312, 30.58451324, 32.06597373, 33.54744708, 35.0289256 ,\n",
      "       36.51040608, 37.99188725, 39.47336864, 40.95485011, 42.43633159]), array([1, 1, 1, 1, 1, 1, 1, 1, 1, 1, 1, 1, 1, 1, 1, 1, 1, 1, 1, 1]), 0.4617974324398144)\n"
     ]
    }
   ],
   "source": [
    "# Test of riverswim smdp, modified poisson.\n",
    "env_smdp = rs_s.riverswim(nS=20, T_max=20,distribution='poisson', param = 7) # lambda = 4\n",
    "\n",
    "print(utils.VI(env_smdp))\n",
    "print(utils.VI(env_option))\n",
    "print(utils.VI(env_mdp))"
   ]
  },
  {
   "cell_type": "code",
   "execution_count": 420,
   "metadata": {},
   "outputs": [
    {
     "name": "stdout",
     "output_type": "stream",
     "text": [
      "(75, array([3.7       , 3.64444444, 3.58888889, 3.53333333, 3.47777778,\n",
      "       3.42222222, 3.36666667, 3.31111111, 3.25555556, 3.2       ,\n",
      "       3.14444444, 3.08888889, 3.03333333, 2.97777778, 2.92222222,\n",
      "       2.86666667, 2.81111111, 2.75555556, 3.77578662, 5.22058064]), array([0, 0, 0, 0, 0, 0, 0, 0, 0, 0, 0, 0, 0, 0, 0, 0, 0, 0, 1, 1]), 0.054991997663440984)\n",
      "(138, array([37.11330937, 38.36867139, 39.78768979, 41.23385495, 42.68917881,\n",
      "       44.15046135, 45.61644346, 47.08621531, 48.55901143, 50.03418513,\n",
      "       51.51119383, 52.98958937, 54.46900833, 55.94916214, 57.42982701,\n",
      "       58.91083411, 60.39206014, 61.87341847, 63.35485095, 64.83632064]), array([1, 1, 1, 1, 1, 1, 1, 1, 1, 1, 1, 1, 1, 1, 1, 1, 1, 1, 1, 1]), 0.46172766875120885)\n",
      "(90, array([14.57849718, 15.84774217, 17.28460366, 18.74967216, 20.22296147,\n",
      "       21.70008175, 23.17927394, 24.6595929 , 26.14050631, 27.62172134,\n",
      "       29.10308312, 30.58451324, 32.06597373, 33.54744708, 35.0289256 ,\n",
      "       36.51040608, 37.99188725, 39.47336864, 40.95485011, 42.43633159]), array([1, 1, 1, 1, 1, 1, 1, 1, 1, 1, 1, 1, 1, 1, 1, 1, 1, 1, 1, 1]), 0.4617974324398144)\n"
     ]
    }
   ],
   "source": [
    "# Test of riverswim smdp, modified binomial.\n",
    "env_smdp = rs_s.riverswim(nS=20, T_max=20,distribution='binomial',param = 0.4)\n",
    "\n",
    "print(utils.VI(env_smdp))\n",
    "print(utils.VI(env_option))\n",
    "print(utils.VI(env_mdp))"
   ]
  },
  {
   "cell_type": "code",
   "execution_count": 421,
   "metadata": {},
   "outputs": [
    {
     "name": "stdout",
     "output_type": "stream",
     "text": [
      "(325, array([18.55225662, 19.75648295, 21.14953303, 22.59275273, 24.05637612,\n",
      "       25.52949171, 27.00710399, 28.48682836, 29.96752932, 31.44867292,\n",
      "       32.93001243, 34.41143624, 35.8928952 , 37.37436827, 38.85584677,\n",
      "       40.33732726, 41.81880844, 43.30028984, 44.78177131, 46.26325279]), array([1, 1, 1, 1, 1, 1, 1, 1, 1, 1, 1, 1, 1, 1, 1, 1, 1, 1, 1, 1]), 0.13502822156950778)\n",
      "(138, array([37.11330937, 38.36867139, 39.78768979, 41.23385495, 42.68917881,\n",
      "       44.15046135, 45.61644346, 47.08621531, 48.55901143, 50.03418513,\n",
      "       51.51119383, 52.98958937, 54.46900833, 55.94916214, 57.42982701,\n",
      "       58.91083411, 60.39206014, 61.87341847, 63.35485095, 64.83632064]), array([1, 1, 1, 1, 1, 1, 1, 1, 1, 1, 1, 1, 1, 1, 1, 1, 1, 1, 1, 1]), 0.46172766875120885)\n",
      "(90, array([14.57849718, 15.84774217, 17.28460366, 18.74967216, 20.22296147,\n",
      "       21.70008175, 23.17927394, 24.6595929 , 26.14050631, 27.62172134,\n",
      "       29.10308312, 30.58451324, 32.06597373, 33.54744708, 35.0289256 ,\n",
      "       36.51040608, 37.99188725, 39.47336864, 40.95485011, 42.43633159]), array([1, 1, 1, 1, 1, 1, 1, 1, 1, 1, 1, 1, 1, 1, 1, 1, 1, 1, 1, 1]), 0.4617974324398144)\n"
     ]
    }
   ],
   "source": [
    "# Test of riverswim smdp, geometrical.\n",
    "env_smdp = rs_s.riverswim(nS=20, T_max=20,distribution='geometric',param = 0.3)\n",
    "\n",
    "print(utils.VI(env_smdp))\n",
    "print(utils.VI(env_option))\n",
    "print(utils.VI(env_mdp))"
   ]
  },
  {
   "attachments": {},
   "cell_type": "markdown",
   "metadata": {},
   "source": [
    "With the tests being done, we proceed to write the crucial results (optimal gain and optimal policies) to latex tables. "
   ]
  },
  {
   "cell_type": "code",
   "execution_count": 422,
   "metadata": {},
   "outputs": [],
   "source": [
    "def tables(S,T_max,lambda_p,p1,p2):\n",
    "    headers = ['Index/gain','MDP','Unif('+str(T_max)+')','Const('+str(T_max)+')',\n",
    "            'Pois('+str(lambda_p)+')','Binomial('+str(p1)+')','Geom('+str(p2)+')']\n",
    "    table = np.array(range(S)).reshape((S,1))\n",
    "\n",
    "\n",
    "    env_mdp = utils.VI(rs.riverswim(nS=S, T_max=1)) # standard mdp)\n",
    "    uniform = utils.VI(rs_s.riverswim(nS=S, T_max=T_max,distribution='uniform',param=None) )#parameter not needed.\n",
    "    constant = utils.VI(rs_s.riverswim(nS=S, T_max=T_max,distribution='constant',param=None) )#parameter not needed.\n",
    "    poisson = utils.VI(rs_s.riverswim(nS=S, T_max=T_max,distribution='poisson',param=lambda_p)) #parameter not needed.\n",
    "    binomial = utils.VI(rs_s.riverswim(nS=S, T_max=T_max,distribution='binomial',param=p1)) #parameter not needed.\n",
    "    geometric = utils.VI(rs_s.riverswim(nS=S, T_max=T_max,distribution='geometric',param=p2)) #parameter not needed.\n",
    "    policies = np.array([env_mdp[2],uniform[2],constant[2],poisson[2],binomial[2],geometric[2]]).T\n",
    "    policies = np.where(policies==0,'L','R')\n",
    "    policies \n",
    "    gains = np.array(['Gain',np.round(env_mdp[3],3),np.round(uniform[3],3),\n",
    "                    np.round(constant[3],3),np.round(poisson[3],3),\n",
    "                    np.round(binomial[3],3),np.round(geometric[3],3)]).reshape((1,7))\n",
    "\n",
    "    table = np.append(table,policies,axis = 1)\n",
    "\n",
    "    table=np.append(table,gains,axis=0)\n",
    "    print(tabulate(table,headers=headers,tablefmt='latex',numalign=\"center\"))\n",
    "\n"
   ]
  },
  {
   "cell_type": "code",
   "execution_count": 423,
   "metadata": {},
   "outputs": [
    {
     "name": "stdout",
     "output_type": "stream",
     "text": [
      "\\begin{tabular}{lllllll}\n",
      "\\hline\n",
      " Index/gain   & MDP   & Unif(20)   & Const(20)   & Pois(4)   & Binomial(0.5)   & Geom(0.5)   \\\\\n",
      "\\hline\n",
      " 0            & R     & L          & L           & R         & L               & R           \\\\\n",
      " 1            & R     & L          & L           & R         & L               & R           \\\\\n",
      " 2            & R     & L          & L           & R         & L               & R           \\\\\n",
      " 3            & R     & L          & L           & R         & L               & R           \\\\\n",
      " 4            & R     & L          & L           & R         & L               & R           \\\\\n",
      " 5            & R     & L          & L           & R         & L               & R           \\\\\n",
      " 6            & R     & L          & L           & R         & L               & R           \\\\\n",
      " 7            & R     & L          & L           & R         & L               & R           \\\\\n",
      " 8            & R     & L          & L           & R         & L               & R           \\\\\n",
      " 9            & R     & L          & L           & R         & L               & R           \\\\\n",
      " 10           & R     & L          & L           & R         & L               & R           \\\\\n",
      " 11           & R     & L          & L           & R         & L               & R           \\\\\n",
      " 12           & R     & L          & L           & R         & L               & R           \\\\\n",
      " 13           & R     & L          & L           & R         & L               & R           \\\\\n",
      " 14           & R     & L          & L           & R         & L               & R           \\\\\n",
      " 15           & R     & L          & L           & R         & L               & R           \\\\\n",
      " 16           & R     & L          & L           & R         & L               & R           \\\\\n",
      " 17           & R     & L          & L           & R         & L               & R           \\\\\n",
      " 18           & R     & R          & L           & R         & R               & R           \\\\\n",
      " 19           & R     & R          & R           & R         & R               & R           \\\\\n",
      " Gain         & 0.462 & 0.047      & 0.045       & 0.111     & 0.049           & 0.228       \\\\\n",
      "\\hline\n",
      "\\end{tabular}\n"
     ]
    }
   ],
   "source": [
    "S = 20 # set number of states\n",
    "T_max = 20 # set T_max\n",
    "lambda_p = 4\n",
    "p1 = 0.5\n",
    "p2 = 0.5\n",
    "\n",
    "tables(S,T_max,lambda_p,p1,p2)"
   ]
  },
  {
   "cell_type": "code",
   "execution_count": 424,
   "metadata": {},
   "outputs": [
    {
     "name": "stdout",
     "output_type": "stream",
     "text": [
      "\\begin{tabular}{lllllll}\n",
      "\\hline\n",
      " Index/gain   & MDP   & Unif(5)   & Const(5)   & Pois(4)   & Binomial(0.1)   & Geom(0.5)   \\\\\n",
      "\\hline\n",
      " 0            & R     & R         & R          & R         & R               & R           \\\\\n",
      " 1            & R     & R         & R          & R         & R               & R           \\\\\n",
      " 2            & R     & R         & R          & R         & R               & R           \\\\\n",
      " 3            & R     & R         & R          & R         & R               & R           \\\\\n",
      " 4            & R     & R         & R          & R         & R               & R           \\\\\n",
      " 5            & R     & R         & R          & R         & R               & R           \\\\\n",
      " 6            & R     & R         & R          & R         & R               & R           \\\\\n",
      " 7            & R     & R         & R          & R         & R               & R           \\\\\n",
      " 8            & R     & R         & R          & R         & R               & R           \\\\\n",
      " 9            & R     & R         & R          & R         & R               & R           \\\\\n",
      " 10           & R     & R         & R          & R         & R               & R           \\\\\n",
      " 11           & R     & R         & R          & R         & R               & R           \\\\\n",
      " 12           & R     & R         & R          & R         & R               & R           \\\\\n",
      " 13           & R     & R         & R          & R         & R               & R           \\\\\n",
      " 14           & R     & R         & R          & R         & R               & R           \\\\\n",
      " 15           & R     & R         & R          & R         & R               & R           \\\\\n",
      " 16           & R     & R         & R          & R         & R               & R           \\\\\n",
      " 17           & R     & R         & R          & R         & R               & R           \\\\\n",
      " 18           & R     & R         & R          & R         & R               & R           \\\\\n",
      " 19           & R     & R         & R          & R         & R               & R           \\\\\n",
      " Gain         & 0.462 & 0.151     & 0.088      & 0.111     & 0.423           & 0.228       \\\\\n",
      "\\hline\n",
      "\\end{tabular}\n"
     ]
    }
   ],
   "source": [
    "# Example where we always go right:\n",
    "S = 20 # set number of states\n",
    "T_max = 5 # set T_max\n",
    "lambda_p = 4\n",
    "p1 = 0.1\n",
    "p2 = 0.5\n",
    "\n",
    "tables(S,T_max,lambda_p,p1,p2)"
   ]
  },
  {
   "cell_type": "code",
   "execution_count": 432,
   "metadata": {},
   "outputs": [
    {
     "name": "stdout",
     "output_type": "stream",
     "text": [
      "\\begin{tabular}{lllllll}\n",
      "\\hline\n",
      " Index/gain   & MDP   & Unif(50)   & Const(50)   & Pois(30)   & Binomial(0.9)   & Geom(0.01)   \\\\\n",
      "\\hline\n",
      " 0            & R     & L          & L           & L          & L               & L            \\\\\n",
      " 1            & R     & L          & L           & L          & L               & L            \\\\\n",
      " 2            & R     & L          & L           & L          & L               & L            \\\\\n",
      " 3            & R     & L          & L           & L          & L               & L            \\\\\n",
      " 4            & R     & L          & L           & L          & L               & L            \\\\\n",
      " 5            & R     & L          & L           & L          & L               & L            \\\\\n",
      " 6            & R     & L          & L           & L          & L               & L            \\\\\n",
      " 7            & R     & L          & L           & L          & L               & L            \\\\\n",
      " 8            & R     & L          & L           & L          & L               & L            \\\\\n",
      " 9            & R     & L          & L           & L          & L               & L            \\\\\n",
      " 10           & R     & L          & L           & L          & L               & L            \\\\\n",
      " 11           & R     & L          & L           & L          & L               & L            \\\\\n",
      " 12           & R     & L          & L           & L          & L               & L            \\\\\n",
      " 13           & R     & L          & L           & L          & L               & L            \\\\\n",
      " 14           & R     & L          & L           & L          & L               & L            \\\\\n",
      " 15           & R     & L          & L           & L          & L               & L            \\\\\n",
      " 16           & R     & L          & L           & L          & L               & L            \\\\\n",
      " 17           & R     & L          & L           & L          & L               & L            \\\\\n",
      " 18           & R     & L          & L           & L          & L               & L            \\\\\n",
      " 19           & R     & L          & L           & L          & L               & L            \\\\\n",
      " Gain         & 0.462 & 0.046      & 0.049       & 0.049      & 0.049           & 0.047        \\\\\n",
      "\\hline\n",
      "\\end{tabular}\n"
     ]
    }
   ],
   "source": [
    "# Example where we always go left:\n",
    "S = 20 # set number of states\n",
    "T_max = 50 # set T_max\n",
    "lambda_p = 30\n",
    "p1 = 0.9\n",
    "p2 = 0.01\n",
    "\n",
    "tables(S,T_max,lambda_p,p1,p2)"
   ]
  },
  {
   "cell_type": "code",
   "execution_count": 436,
   "metadata": {},
   "outputs": [
    {
     "name": "stdout",
     "output_type": "stream",
     "text": [
      "No convergence in VI after:  1000  steps!\n",
      "No convergence in VI after:  1000  steps!\n",
      "No convergence in VI after:  1000  steps!\n",
      "No convergence in VI after:  1000  steps!\n",
      "\\begin{tabular}{lllllll}\n",
      "\\hline\n",
      " Index/gain   & MDP   & Unif(14)   & Const(14)   & Pois(7)   & Binomial(0.55)   & Geom(0.15)   \\\\\n",
      "\\hline\n",
      " 0            & R     & L          & L           & L         & L                & L            \\\\\n",
      " 1            & R     & L          & L           & L         & L                & L            \\\\\n",
      " 2            & R     & L          & L           & L         & L                & L            \\\\\n",
      " 3            & R     & L          & L           & L         & L                & L            \\\\\n",
      " 4            & R     & L          & L           & L         & L                & L            \\\\\n",
      " 5            & R     & L          & L           & L         & L                & R            \\\\\n",
      " 6            & R     & L          & L           & L         & L                & R            \\\\\n",
      " 7            & R     & L          & L           & R         & L                & R            \\\\\n",
      " 8            & R     & L          & L           & R         & L                & R            \\\\\n",
      " 9            & R     & L          & L           & R         & L                & R            \\\\\n",
      " 10           & R     & R          & L           & R         & L                & R            \\\\\n",
      " 11           & R     & R          & L           & R         & R                & R            \\\\\n",
      " 12           & R     & R          & L           & R         & R                & R            \\\\\n",
      " 13           & R     & R          & L           & R         & R                & R            \\\\\n",
      " 14           & R     & R          & L           & R         & R                & R            \\\\\n",
      " 15           & R     & R          & L           & R         & R                & R            \\\\\n",
      " 16           & R     & R          & L           & R         & R                & R            \\\\\n",
      " 17           & R     & R          & L           & R         & R                & R            \\\\\n",
      " 18           & R     & R          & L           & R         & R                & R            \\\\\n",
      " 19           & R     & R          & R           & R         & R                & R            \\\\\n",
      " Gain         & 0.462 & 0.056      & 0.046       & 0.058     & 0.055            & 0.06         \\\\\n",
      "\\hline\n",
      "\\end{tabular}\n"
     ]
    }
   ],
   "source": [
    "# Example where we always go left:\n",
    "S = 20 # set number of states\n",
    "T_max = 14 # set T_max\n",
    "lambda_p = 7\n",
    "p1 = 0.55\n",
    "p2 = 0.15\n",
    "\n",
    "tables(S,T_max,lambda_p,p1,p2)"
   ]
  }
 ],
 "metadata": {
  "kernelspec": {
   "display_name": "Python 3",
   "language": "python",
   "name": "python3"
  },
  "language_info": {
   "codemirror_mode": {
    "name": "ipython",
    "version": 3
   },
   "file_extension": ".py",
   "mimetype": "text/x-python",
   "name": "python",
   "nbconvert_exporter": "python",
   "pygments_lexer": "ipython3",
   "version": "3.10.7"
  },
  "orig_nbformat": 4
 },
 "nbformat": 4,
 "nbformat_minor": 2
}
