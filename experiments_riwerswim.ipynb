{
 "cells": [
  {
   "cell_type": "code",
   "execution_count": 2,
   "metadata": {},
   "outputs": [],
   "source": [
    "import numpy as np\n",
    "import riverswim_class as rs \n",
    "import UCRL2_L as ucrl\n",
    "import UCRL_SMDP as ucrlS\n",
    "import experiment_utils as utils\n",
    "import importlib\n",
    "importlib.reload(rs)\n",
    "importlib.reload(ucrl)\n",
    "importlib.reload(ucrlS)\n",
    "importlib.reload(utils)\n",
    "import matplotlib.pyplot as plt"
   ]
  },
  {
   "cell_type": "code",
   "execution_count": 3,
   "metadata": {},
   "outputs": [],
   "source": [
    "env_smdp = rs.riverswim(nS=64, T_max=4)\n",
    "env_ucrl = rs.riverswim(nS=64, T_max=1)\n",
    "ucrl_naive = ucrl.UCRL2(nS=64, nA = 4, delta = 0.05)\n",
    "smdp_ucrl = ucrlS.UCRL_SMDP(nS = 64, nA = 4, delta = 0.05, b_r=1,b_tau=1,sigma_r=1/2, sigma_tau=None, r_max=1,tau_min=1, tau_max=None, T_max = 4)\n",
    "Bus_ucrl = ucrlS.BUS(nS = 64, nA = 4, delta = 0.05, b_r=1,b_tau=1,sigma_r=1/2, sigma_tau=None, r_max=1,tau_min=1, tau_max=None, T_max_grid = np.array([2,4,6,8]))\n",
    "Bus2_ucrl = ucrlS.BUS2(nS = 64, nA = 4, delta = 0.05, b_r=1,b_tau=1,sigma_r=1/2,r_max=1,tau_min=1, T_max_grid = np.array([2,4,6,8]))\n",
    "_,_,_,gstar = utils.VI(env_ucrl)"
   ]
  },
  {
   "cell_type": "code",
   "execution_count": null,
   "metadata": {},
   "outputs": [],
   "source": [
    "reward_ucrl,tau_ucrl = utils.run_experiment(env_ucrl, ucrl_naive, T = 3*10**7)\n",
    "reward_sucrl,tau_sucrl = utils.run_experiment(env_smdp, smdp_ucrl, T = 3*10**7)"
   ]
  },
  {
   "cell_type": "code",
   "execution_count": null,
   "metadata": {},
   "outputs": [],
   "source": [
    "reward_bus,tau_bus = utils.run_experiment(env_smdp, Bus_ucrl, T = 3*10**7)\n",
    "reward_bus2,tau_bus2 = utils.run_experiment(env_smdp, Bus2_ucrl, T = 3*10**7)"
   ]
  },
  {
   "cell_type": "code",
   "execution_count": 4,
   "metadata": {},
   "outputs": [
    {
     "ename": "NameError",
     "evalue": "name 'reward_ucrl' is not defined",
     "output_type": "error",
     "traceback": [
      "\u001b[0;31m---------------------------------------------------------------------------\u001b[0m",
      "\u001b[0;31mNameError\u001b[0m                                 Traceback (most recent call last)",
      "Cell \u001b[0;32mIn[4], line 1\u001b[0m\n\u001b[0;32m----> 1\u001b[0m regret_ucrl \u001b[39m=\u001b[39m utils\u001b[39m.\u001b[39mcalc_regret(reward\u001b[39m=\u001b[39mreward_ucrl, tau \u001b[39m=\u001b[39m tau_ucrl, optimal_gain\u001b[39m=\u001b[39mgstar)\n\u001b[1;32m      2\u001b[0m regret_sucrl \u001b[39m=\u001b[39m utils\u001b[39m.\u001b[39mcalc_regret(reward\u001b[39m=\u001b[39mreward_sucrl, tau \u001b[39m=\u001b[39m tau_sucrl, optimal_gain\u001b[39m=\u001b[39mgstar)\n",
      "\u001b[0;31mNameError\u001b[0m: name 'reward_ucrl' is not defined"
     ]
    }
   ],
   "source": [
    "regret_ucrl = utils.calc_regret(reward=reward_ucrl, tau = tau_ucrl, optimal_gain=gstar)\n",
    "regret_sucrl = utils.calc_regret(reward=reward_sucrl, tau = tau_sucrl, optimal_gain=gstar)\n",
    "regrets_bus = utils.calc_regret(reward=reward_bus, tau = tau_bus, optimal_gain=gstar)\n",
    "regrets_bus2 = utils.calc_regret(reward=reward_bus2, tau = tau_bus2, optimal_gain=gstar)"
   ]
  },
  {
   "cell_type": "code",
   "execution_count": null,
   "metadata": {},
   "outputs": [],
   "source": [
    "plt.plot(regret_sucrl, label = \"Regret surcl T_max = 4\")\n",
    "plt.plot(regret_ucrl, label = \"UCRL\")\n",
    "plt.plot(regrets_bus, label = \"BUS\")\n",
    "plt.plot(regrets_bus2, label = \"BUS2\")\n",
    "plt.legend()"
   ]
  }
 ],
 "metadata": {
  "kernelspec": {
   "display_name": "Python 3",
   "language": "python",
   "name": "python3"
  },
  "language_info": {
   "codemirror_mode": {
    "name": "ipython",
    "version": 3
   },
   "file_extension": ".py",
   "mimetype": "text/x-python",
   "name": "python",
   "nbconvert_exporter": "python",
   "pygments_lexer": "ipython3",
   "version": "3.9.2"
  },
  "orig_nbformat": 4
 },
 "nbformat": 4,
 "nbformat_minor": 2
}
